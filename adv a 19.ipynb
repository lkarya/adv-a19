{
 "cells": [
  {
   "cell_type": "code",
   "execution_count": null,
   "id": "ea135299",
   "metadata": {},
   "outputs": [],
   "source": [
    "# Define the relationship between a class and its instances. Is it a one-to-one or a one-to-many\n",
    "partnership, for example?\n",
    "\n",
    "nheritance is “IS-A” type of relationship. “IS-A” relationship is a totally based on Inheritance,\n",
    "which can be of two types Class Inheritance or Interface Inheritance. Inheritance is a parent-child relationship\n",
    "where we create a new class by using existing class code. It is just like saying that “A is type of B”. \n",
    "For example is “Apple is a fruit”, “Ferrari is a car”."
   ]
  },
  {
   "cell_type": "code",
   "execution_count": null,
   "id": "c148126a",
   "metadata": {},
   "outputs": [],
   "source": [
    "# What kind of knowledge is stored in a class?\n",
    "\n",
    "What are 3 major types of knowledge?\n",
    "There are three core types of knowledge: explicit (documented information), implicit (applied information), and tacit (understood information)."
   ]
  },
  {
   "cell_type": "code",
   "execution_count": null,
   "id": "5b3943b2",
   "metadata": {},
   "outputs": [],
   "source": [
    "# Is inheritance supported in Python, and if so, what is the syntax?\n",
    "\n",
    "Inheritance allows us to define a class that inherits all the methods and properties from another class. Parent class is the class being inherited from, also called base class. Child class is the class that inherits from another class, also called derived class."
   ]
  },
  {
   "cell_type": "code",
   "execution_count": null,
   "id": "0c72ef83",
   "metadata": {},
   "outputs": [],
   "source": [
    "# How do you distinguish between a class variable and an instance variable?\n",
    "\n",
    "Instance Variable\tClass Variable\n",
    "It usually reserves memory for data that the class needs.\tIt usually maintains a single shared value for all instances of class even if no instance object of the class exists."
   ]
  },
  {
   "cell_type": "code",
   "execution_count": null,
   "id": "e5c56113",
   "metadata": {},
   "outputs": [],
   "source": [
    "# What is the difference between the _ _add_ _ and the _ _radd_ _ methods?\n",
    "\n",
    "There is no difference. One performs a+b , the other b+a . Likewise rmul and mul produce the same result, but rsub and sub & rdiv and div do not"
   ]
  }
 ],
 "metadata": {
  "kernelspec": {
   "display_name": "Python 3 (ipykernel)",
   "language": "python",
   "name": "python3"
  },
  "language_info": {
   "codemirror_mode": {
    "name": "ipython",
    "version": 3
   },
   "file_extension": ".py",
   "mimetype": "text/x-python",
   "name": "python",
   "nbconvert_exporter": "python",
   "pygments_lexer": "ipython3",
   "version": "3.9.7"
  }
 },
 "nbformat": 4,
 "nbformat_minor": 5
}
